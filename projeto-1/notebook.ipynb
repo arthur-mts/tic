{
 "cells": [
  {
   "metadata": {},
   "cell_type": "markdown",
   "source": "# qual a quantidade média de auto informação por palavra e de informação por mensagem em cada dataset",
   "id": "88888f81e3fe7d7"
  },
  {
   "metadata": {
    "ExecuteTime": {
     "end_time": "2024-08-08T02:15:26.008862Z",
     "start_time": "2024-08-08T02:15:25.557777Z"
    }
   },
   "cell_type": "code",
   "source": [
    "import numpy as np\n",
    "import pandas as pd\n",
    "import matplotlib.pyplot as plt"
   ],
   "id": "322d9dc08c999a89",
   "outputs": [],
   "execution_count": 1
  },
  {
   "metadata": {
    "ExecuteTime": {
     "end_time": "2024-08-08T02:15:26.014018Z",
     "start_time": "2024-08-08T02:15:26.009627Z"
    }
   },
   "cell_type": "code",
   "source": [
    "def auto_informacao(i):\n",
    "    \"\"\"\n",
    "    Essa funçãto calcula a autoinformação de um determinado símbolo produzido por uma fonte binária X.\n",
    "    :param i: Probabilidade de um símbolo ser transmitido pela fonte X. Pode ser um número ou um mapa de :func:`probabilidades`.  \n",
    "    :return: Informação em bits\n",
    "    \"\"\"\n",
    "\n",
    "    if type(i) != dict:\n",
    "        return round(-1 * np.log2(i), 4)\n",
    "    else:\n",
    "        r = {}\n",
    "        for key, value in i.items():\n",
    "            r[key] = round(-1 * np.log2(value), 4)\n",
    "        return r\n",
    "\n",
    "\n",
    "## ou informação média\n",
    "def entropia(c):\n",
    "    \"\"\"\n",
    "    Essa função calcula a entrópia de uma fonte. A entrópia de uma fonte descreve a quantidade média de informação que uma fonte pode transmitir.\n",
    "    :param c: Mapa de probabilidade de todos os símbolos produzidos por uma fonte binária X. \n",
    "    :return: A média ponderada da auto-informacao de todos os símbolos produzidos por uma fonte binária X.\n",
    "    \"\"\"\n",
    "    try:\n",
    "        c = list(c.values())\n",
    "    except TypeError:\n",
    "        raise Exception(\"c não é um mapa\")\n",
    "\n",
    "    if not c is np.ndarray:\n",
    "        c = np.array(c)\n",
    "\n",
    "    return round(sum(np.array(c) * np.log2(1 / np.array(c))), 4)\n",
    "\n",
    "\n",
    "def probabilidades(c):\n",
    "    \"\"\".value_counts\n",
    "    Função auxiliar para calcular a probabilidade de ocorrência de cada símbolo de uma coleção.\n",
    "    :param c: Coleção de símbolos com probabilidade de ocorrência sem dependências.\n",
    "    :return: Mapa onde as chaves são cada item único da coleção c e os valores são as probabilidades de ocorrência de cada símbolo em relação a todos os outros items.\n",
    "    \"\"\"\n",
    "    try:\n",
    "        iter(c)\n",
    "    except TypeError:\n",
    "        raise Exception(\"c não é uma lista\")\n",
    "\n",
    "    quantidade_simbolos = {}\n",
    "    for i in c:\n",
    "        if quantidade_simbolos.get(i) is None:\n",
    "            quantidade_simbolos[i] = 1\n",
    "        else:\n",
    "            quantidade_simbolos[i] = quantidade_simbolos[i] + 1\n",
    "\n",
    "    probabilidade_simbolos = {}\n",
    "\n",
    "    for i in list(set(c)):\n",
    "        probabilidade_simbolos[i] = quantidade_simbolos[i] / len(c)\n",
    "    return probabilidade_simbolos"
   ],
   "id": "7da642b5c9cff8b3",
   "outputs": [],
   "execution_count": 2
  },
  {
   "metadata": {
    "ExecuteTime": {
     "end_time": "2024-08-08T02:15:27.651866Z",
     "start_time": "2024-08-08T02:15:26.014823Z"
    }
   },
   "cell_type": "code",
   "source": "df = pd.read_csv('NoThemeTweets.csv')",
   "id": "74b57fa8ba352f56",
   "outputs": [],
   "execution_count": 3
  },
  {
   "metadata": {
    "ExecuteTime": {
     "end_time": "2024-08-08T02:15:27.808234Z",
     "start_time": "2024-08-08T02:15:27.652973Z"
    }
   },
   "cell_type": "code",
   "source": [
    "print(\"Analisando cinco tweets:\")\n",
    "print(\"\\n\")\n",
    "df_analise = df[df[\"tweet_text\"].str.len() > 100].sample(5)\n",
    "for i in range(5):\n",
    "    mensagem = df_analise.iloc[i].tweet_text\n",
    "    print(mensagem)\n",
    "    print(\"Informação por palavra:\")\n",
    "    probabilidades_por_palavra = probabilidades(mensagem.split())\n",
    "    informacao_por_palavra = auto_informacao(probabilidades_por_palavra)\n",
    "    print(informacao_por_palavra)\n",
    "    max_i = -1\n",
    "    max_p = None\n",
    "    for key, value in informacao_por_palavra.items():\n",
    "        if value > max_i:\n",
    "            max_i = value\n",
    "            max_p = key\n",
    "    print(f\"Palavra com mais informação: \\\"{max_p}\\\". {max_i} bits/palavra\")\n",
    "    print(\"Entropia do texto:\")\n",
    "    print(entropia(probabilidades_por_palavra))\n",
    "    \n",
    "    print(\"\\n\")"
   ],
   "id": "fc2f89c09d8f56f1",
   "outputs": [
    {
     "name": "stdout",
     "output_type": "stream",
     "text": [
      "Analisando cinco tweets:\n",
      "\n",
      "\n",
      "Quanto de altura você tem ? — ai tocou em um assunto delicado...... tenho 1,50 :( https://t.co/9bjmFhkLLw\n",
      "Informação por palavra:\n",
      "{'Quanto': 4.0875, 'tenho': 4.0875, ':(': 4.0875, 'um': 4.0875, '1,50': 4.0875, 'em': 4.0875, 'tem': 4.0875, 'ai': 4.0875, 'tocou': 4.0875, '—': 4.0875, 'você': 4.0875, 'de': 4.0875, 'altura': 4.0875, 'assunto': 4.0875, 'https://t.co/9bjmFhkLLw': 4.0875, 'delicado......': 4.0875, '?': 4.0875}\n",
      "Palavra com mais informação: \"Quanto\". 4.0875 bits/palavra\n",
      "Entropia do texto:\n",
      "4.0875\n",
      "\n",
      "\n",
      "@Sillywalkmary @gaitadaria Infelizmente não aprovaram a outra lei, por isso referia-me somente à Mochi :(\n",
      "Informação por palavra:\n",
      "{'@gaitadaria': 3.9069, 'somente': 3.9069, 'a': 3.9069, 'isso': 3.9069, ':(': 3.9069, 'aprovaram': 3.9069, 'outra': 3.9069, 'por': 3.9069, 'à': 3.9069, 'Infelizmente': 3.9069, 'referia-me': 3.9069, 'Mochi': 3.9069, 'lei,': 3.9069, '@Sillywalkmary': 3.9069, 'não': 3.9069}\n",
      "Palavra com mais informação: \"@gaitadaria\". 3.9069 bits/palavra\n",
      "Entropia do texto:\n",
      "3.9069\n",
      "\n",
      "\n",
      "voce terminou de assistir ao no exorcist? — ꒰ 🌻 ꒱ . .to quase no final por que não tinha tempo pra assistir antes :( https://t.co/PTyb0m1Zha\n",
      "Informação por palavra:\n",
      "{'terminou': 4.7004, '—': 4.7004, 'não': 4.7004, 'https://t.co/PTyb0m1Zha': 4.7004, ':(': 4.7004, 'voce': 4.7004, 'final': 4.7004, 'que': 4.7004, '꒱': 4.7004, 'no': 3.7004, 'exorcist?': 4.7004, 'ao': 4.7004, 'tempo': 4.7004, 'assistir': 3.7004, 'pra': 4.7004, '.': 4.7004, '🌻': 4.7004, '꒰': 4.7004, 'de': 4.7004, 'quase': 4.7004, '.to': 4.7004, 'tinha': 4.7004, 'por': 4.7004, 'antes': 4.7004}\n",
      "Palavra com mais informação: \"terminou\". 4.7004 bits/palavra\n",
      "Entropia do texto:\n",
      "4.5466\n",
      "\n",
      "\n",
      "Chocada Que Deus conforte o coração da família, dos filhos dele Torcia muito pra que ele se recuperasse do cancer :( https://t.co/7Xi9KfEqyH\n",
      "Informação por palavra:\n",
      "{'Torcia': 4.4594, 'Deus': 4.4594, 'se': 4.4594, ':(': 4.4594, 'Chocada': 4.4594, 'que': 4.4594, 'do': 4.4594, 'conforte': 4.4594, 'cancer': 4.4594, 'dos': 4.4594, 'https://t.co/7Xi9KfEqyH': 4.4594, 'pra': 4.4594, 'dele': 4.4594, 'família,': 4.4594, 'o': 4.4594, 'da': 4.4594, 'ele': 4.4594, 'filhos': 4.4594, 'muito': 4.4594, 'Que': 4.4594, 'coração': 4.4594, 'recuperasse': 4.4594}\n",
      "Palavra com mais informação: \"Torcia\". 4.4594 bits/palavra\n",
      "Entropia do texto:\n",
      "4.4594\n",
      "\n",
      "\n",
      "Oi amor da minha vida &lt;3 n fique achando q eu esqueci q hj é o seu special day. So n falei nd ainda pq quero ser a última a te dar happy bthday S2 te amo e aproveite seu dia dona Flor :))))) @phcs_bh\n",
      "Informação por palavra:\n",
      "{'aproveite': 5.4919, 'vida': 5.4919, 'special': 5.4919, 'day.': 5.4919, 'dia': 5.4919, 'quero': 5.4919, 'falei': 5.4919, 'a': 4.4919, 'última': 5.4919, 'Flor': 5.4919, 'te': 4.4919, 'fique': 5.4919, 'n': 4.4919, 'seu': 4.4919, '@phcs_bh': 5.4919, 'ainda': 5.4919, 'é': 5.4919, 'Oi': 5.4919, 'amo': 5.4919, 'minha': 5.4919, 'dar': 5.4919, 'happy': 5.4919, ':)))))': 5.4919, 'So': 5.4919, 'q': 4.4919, 'hj': 5.4919, 'o': 5.4919, 'da': 5.4919, 'nd': 5.4919, 'bthday': 5.4919, 'esqueci': 5.4919, 'ser': 5.4919, 'S2': 5.4919, 'dona': 5.4919, 'eu': 5.4919, 'amor': 5.4919, '&lt;3': 5.4919, 'e': 5.4919, 'achando': 5.4919, 'pq': 5.4919}\n",
      "Palavra com mais informação: \"aproveite\". 5.4919 bits/palavra\n",
      "Entropia do texto:\n",
      "5.2696\n",
      "\n",
      "\n"
     ]
    }
   ],
   "execution_count": 4
  },
  {
   "metadata": {},
   "cell_type": "markdown",
   "source": "# existe uma variação nessas medidas quando os twittes são neutros, positivos ou negativos?",
   "id": "5ef4916d81a581bd"
  },
  {
   "metadata": {
    "ExecuteTime": {
     "end_time": "2024-08-08T02:15:59.218947Z",
     "start_time": "2024-08-08T02:15:27.808828Z"
    }
   },
   "cell_type": "code",
   "source": [
    "# df = df.sample(20000)\n",
    "df[\"entropia\"] = df[\"tweet_text\"].apply(lambda x: entropia(probabilidades(x)))\n",
    "df[\"entropia\"] = df[\"tweet_text\"].apply(lambda x: entropia(probabilidades(x)))"
   ],
   "id": "ca32e836d805877a",
   "outputs": [],
   "execution_count": 5
  },
  {
   "metadata": {
    "ExecuteTime": {
     "end_time": "2024-08-08T02:15:59.264198Z",
     "start_time": "2024-08-08T02:15:59.219617Z"
    }
   },
   "cell_type": "code",
   "source": "df.groupby(\"sentiment\")[\"entropia\"].mean().sort_values(ascending=False)",
   "id": "14024820da8cfea7",
   "outputs": [
    {
     "data": {
      "text/plain": [
       "sentiment\n",
       "Positivo    4.184230\n",
       "Negativo    4.061275\n",
       "Name: entropia, dtype: float64"
      ]
     },
     "execution_count": 6,
     "metadata": {},
     "output_type": "execute_result"
    }
   ],
   "execution_count": 6
  },
  {
   "metadata": {
    "ExecuteTime": {
     "end_time": "2024-08-08T02:15:59.324181Z",
     "start_time": "2024-08-08T02:15:59.265244Z"
    }
   },
   "cell_type": "code",
   "source": "df.groupby(\"sentiment\")[\"entropia\"].median().sort_values(ascending=False)",
   "id": "f03492b419f9ebc7",
   "outputs": [
    {
     "data": {
      "text/plain": [
       "sentiment\n",
       "Positivo    4.1835\n",
       "Negativo    4.0585\n",
       "Name: entropia, dtype: float64"
      ]
     },
     "execution_count": 7,
     "metadata": {},
     "output_type": "execute_result"
    }
   ],
   "execution_count": 7
  },
  {
   "metadata": {},
   "cell_type": "markdown",
   "source": "Podemos ver que na media e na mediana a entropia de textos positivos é ligeiramente maior.",
   "id": "6303cebd1a13a722"
  },
  {
   "metadata": {},
   "cell_type": "markdown",
   "source": "# o que é possível afirmar com relação a twiites com temas, usando informação como medida?",
   "id": "f748d16188098794"
  },
  {
   "metadata": {},
   "cell_type": "markdown",
   "source": "Que tweets negativos tendem a ter mais entropia, pois tem palavras mais diversas e buscam passar mais informação.",
   "id": "14a030351f898d7"
  },
  {
   "metadata": {},
   "cell_type": "markdown",
   "source": "# se é possível detectar novos usuários usando medidas de informação como parâmetro?",
   "id": "9062e54c3cb9fb87"
  },
  {
   "metadata": {
    "ExecuteTime": {
     "end_time": "2024-08-08T02:15:59.742771Z",
     "start_time": "2024-08-08T02:15:59.324900Z"
    }
   },
   "cell_type": "code",
   "source": "df3 = df[[\"tweet_date\", \"entropia\"]].sort_values(by=\"tweet_date\").reset_index(drop=True)",
   "id": "5ca04495d800f6ab",
   "outputs": [],
   "execution_count": 8
  },
  {
   "metadata": {
    "ExecuteTime": {
     "end_time": "2024-08-08T02:16:00.193799Z",
     "start_time": "2024-08-08T02:15:59.743400Z"
    }
   },
   "cell_type": "code",
   "source": "df3.sort_values(by=\"tweet_date\", ascending=False, inplace=True)",
   "id": "d6fb6721cc9affd8",
   "outputs": [],
   "execution_count": 9
  },
  {
   "metadata": {
    "ExecuteTime": {
     "end_time": "2024-08-08T02:16:00.201035Z",
     "start_time": "2024-08-08T02:16:00.194927Z"
    }
   },
   "cell_type": "code",
   "source": "df3[:10]",
   "id": "16190c7da88a7108",
   "outputs": [
    {
     "data": {
      "text/plain": [
       "                            tweet_date  entropia\n",
       "785813  Wed Sep 26 23:59:52 +0000 2018    4.4088\n",
       "785812  Wed Sep 26 23:59:42 +0000 2018    4.5796\n",
       "785811  Wed Sep 26 23:59:41 +0000 2018    4.0653\n",
       "785810  Wed Sep 26 23:59:41 +0000 2018    4.4498\n",
       "785809  Wed Sep 26 23:59:41 +0000 2018    4.2459\n",
       "785808  Wed Sep 26 23:59:40 +0000 2018    4.8008\n",
       "785807  Wed Sep 26 23:59:37 +0000 2018    3.6645\n",
       "785806  Wed Sep 26 23:59:30 +0000 2018    4.1621\n",
       "785805  Wed Sep 26 23:59:29 +0000 2018    4.2201\n",
       "785804  Wed Sep 26 23:59:24 +0000 2018    3.8316"
      ],
      "text/html": [
       "<div>\n",
       "<style scoped>\n",
       "    .dataframe tbody tr th:only-of-type {\n",
       "        vertical-align: middle;\n",
       "    }\n",
       "\n",
       "    .dataframe tbody tr th {\n",
       "        vertical-align: top;\n",
       "    }\n",
       "\n",
       "    .dataframe thead th {\n",
       "        text-align: right;\n",
       "    }\n",
       "</style>\n",
       "<table border=\"1\" class=\"dataframe\">\n",
       "  <thead>\n",
       "    <tr style=\"text-align: right;\">\n",
       "      <th></th>\n",
       "      <th>tweet_date</th>\n",
       "      <th>entropia</th>\n",
       "    </tr>\n",
       "  </thead>\n",
       "  <tbody>\n",
       "    <tr>\n",
       "      <th>785813</th>\n",
       "      <td>Wed Sep 26 23:59:52 +0000 2018</td>\n",
       "      <td>4.4088</td>\n",
       "    </tr>\n",
       "    <tr>\n",
       "      <th>785812</th>\n",
       "      <td>Wed Sep 26 23:59:42 +0000 2018</td>\n",
       "      <td>4.5796</td>\n",
       "    </tr>\n",
       "    <tr>\n",
       "      <th>785811</th>\n",
       "      <td>Wed Sep 26 23:59:41 +0000 2018</td>\n",
       "      <td>4.0653</td>\n",
       "    </tr>\n",
       "    <tr>\n",
       "      <th>785810</th>\n",
       "      <td>Wed Sep 26 23:59:41 +0000 2018</td>\n",
       "      <td>4.4498</td>\n",
       "    </tr>\n",
       "    <tr>\n",
       "      <th>785809</th>\n",
       "      <td>Wed Sep 26 23:59:41 +0000 2018</td>\n",
       "      <td>4.2459</td>\n",
       "    </tr>\n",
       "    <tr>\n",
       "      <th>785808</th>\n",
       "      <td>Wed Sep 26 23:59:40 +0000 2018</td>\n",
       "      <td>4.8008</td>\n",
       "    </tr>\n",
       "    <tr>\n",
       "      <th>785807</th>\n",
       "      <td>Wed Sep 26 23:59:37 +0000 2018</td>\n",
       "      <td>3.6645</td>\n",
       "    </tr>\n",
       "    <tr>\n",
       "      <th>785806</th>\n",
       "      <td>Wed Sep 26 23:59:30 +0000 2018</td>\n",
       "      <td>4.1621</td>\n",
       "    </tr>\n",
       "    <tr>\n",
       "      <th>785805</th>\n",
       "      <td>Wed Sep 26 23:59:29 +0000 2018</td>\n",
       "      <td>4.2201</td>\n",
       "    </tr>\n",
       "    <tr>\n",
       "      <th>785804</th>\n",
       "      <td>Wed Sep 26 23:59:24 +0000 2018</td>\n",
       "      <td>3.8316</td>\n",
       "    </tr>\n",
       "  </tbody>\n",
       "</table>\n",
       "</div>"
      ]
     },
     "execution_count": 10,
     "metadata": {},
     "output_type": "execute_result"
    }
   ],
   "execution_count": 10
  },
  {
   "metadata": {
    "ExecuteTime": {
     "end_time": "2024-08-08T02:16:00.208020Z",
     "start_time": "2024-08-08T02:16:00.201724Z"
    }
   },
   "cell_type": "code",
   "source": "df3[-10:]",
   "id": "ffec77a6e6797d8b",
   "outputs": [
    {
     "data": {
      "text/plain": [
       "                       tweet_date  entropia\n",
       "9  Fri Aug 17 00:00:22 +0000 2018    4.1072\n",
       "8  Fri Aug 17 00:00:11 +0000 2018    4.7882\n",
       "6  Fri Aug 17 00:00:07 +0000 2018    4.6831\n",
       "7  Fri Aug 17 00:00:07 +0000 2018    4.5188\n",
       "5  Fri Aug 17 00:00:06 +0000 2018    4.5388\n",
       "4  Fri Aug 17 00:00:04 +0000 2018    4.5754\n",
       "2  Fri Aug 17 00:00:04 +0000 2018    4.5146\n",
       "3  Fri Aug 17 00:00:04 +0000 2018    3.9764\n",
       "1  Fri Aug 17 00:00:01 +0000 2018    4.7664\n",
       "0  Fri Aug 17 00:00:00 +0000 2018    5.0296"
      ],
      "text/html": [
       "<div>\n",
       "<style scoped>\n",
       "    .dataframe tbody tr th:only-of-type {\n",
       "        vertical-align: middle;\n",
       "    }\n",
       "\n",
       "    .dataframe tbody tr th {\n",
       "        vertical-align: top;\n",
       "    }\n",
       "\n",
       "    .dataframe thead th {\n",
       "        text-align: right;\n",
       "    }\n",
       "</style>\n",
       "<table border=\"1\" class=\"dataframe\">\n",
       "  <thead>\n",
       "    <tr style=\"text-align: right;\">\n",
       "      <th></th>\n",
       "      <th>tweet_date</th>\n",
       "      <th>entropia</th>\n",
       "    </tr>\n",
       "  </thead>\n",
       "  <tbody>\n",
       "    <tr>\n",
       "      <th>9</th>\n",
       "      <td>Fri Aug 17 00:00:22 +0000 2018</td>\n",
       "      <td>4.1072</td>\n",
       "    </tr>\n",
       "    <tr>\n",
       "      <th>8</th>\n",
       "      <td>Fri Aug 17 00:00:11 +0000 2018</td>\n",
       "      <td>4.7882</td>\n",
       "    </tr>\n",
       "    <tr>\n",
       "      <th>6</th>\n",
       "      <td>Fri Aug 17 00:00:07 +0000 2018</td>\n",
       "      <td>4.6831</td>\n",
       "    </tr>\n",
       "    <tr>\n",
       "      <th>7</th>\n",
       "      <td>Fri Aug 17 00:00:07 +0000 2018</td>\n",
       "      <td>4.5188</td>\n",
       "    </tr>\n",
       "    <tr>\n",
       "      <th>5</th>\n",
       "      <td>Fri Aug 17 00:00:06 +0000 2018</td>\n",
       "      <td>4.5388</td>\n",
       "    </tr>\n",
       "    <tr>\n",
       "      <th>4</th>\n",
       "      <td>Fri Aug 17 00:00:04 +0000 2018</td>\n",
       "      <td>4.5754</td>\n",
       "    </tr>\n",
       "    <tr>\n",
       "      <th>2</th>\n",
       "      <td>Fri Aug 17 00:00:04 +0000 2018</td>\n",
       "      <td>4.5146</td>\n",
       "    </tr>\n",
       "    <tr>\n",
       "      <th>3</th>\n",
       "      <td>Fri Aug 17 00:00:04 +0000 2018</td>\n",
       "      <td>3.9764</td>\n",
       "    </tr>\n",
       "    <tr>\n",
       "      <th>1</th>\n",
       "      <td>Fri Aug 17 00:00:01 +0000 2018</td>\n",
       "      <td>4.7664</td>\n",
       "    </tr>\n",
       "    <tr>\n",
       "      <th>0</th>\n",
       "      <td>Fri Aug 17 00:00:00 +0000 2018</td>\n",
       "      <td>5.0296</td>\n",
       "    </tr>\n",
       "  </tbody>\n",
       "</table>\n",
       "</div>"
      ]
     },
     "execution_count": 11,
     "metadata": {},
     "output_type": "execute_result"
    }
   ],
   "execution_count": 11
  },
  {
   "metadata": {},
   "cell_type": "markdown",
   "source": "Não foi possível traçar uma correlação da data dos tweets com a sua entropia",
   "id": "2ca834b1874ecfe1"
  }
 ],
 "metadata": {
  "kernelspec": {
   "display_name": "Python 3",
   "language": "python",
   "name": "python3"
  },
  "language_info": {
   "codemirror_mode": {
    "name": "ipython",
    "version": 2
   },
   "file_extension": ".py",
   "mimetype": "text/x-python",
   "name": "python",
   "nbconvert_exporter": "python",
   "pygments_lexer": "ipython2",
   "version": "2.7.6"
  }
 },
 "nbformat": 4,
 "nbformat_minor": 5
}
