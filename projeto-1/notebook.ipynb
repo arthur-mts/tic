{
 "cells": [
  {
   "metadata": {},
   "cell_type": "markdown",
   "source": "# qual a quantidade média de auto informação por palavra e de informação por mensagem em cada dataset",
   "id": "88888f81e3fe7d7"
  },
  {
   "metadata": {
    "ExecuteTime": {
     "end_time": "2024-08-07T02:50:53.807907Z",
     "start_time": "2024-08-07T02:50:52.698492Z"
    }
   },
   "cell_type": "code",
   "source": [
    "import numpy as np\n",
    "import pandas as pd\n",
    "import matplotlib.pyplot as plt"
   ],
   "id": "322d9dc08c999a89",
   "outputs": [],
   "execution_count": 31
  },
  {
   "metadata": {
    "ExecuteTime": {
     "end_time": "2024-08-07T02:45:50.159130Z",
     "start_time": "2024-08-07T02:45:50.155324Z"
    }
   },
   "cell_type": "code",
   "source": [
    "def auto_informacao(i):\n",
    "    \"\"\"\n",
    "    Essa funçãto calcula a autoinformação de um determinado símbolo produzido por uma fonte binária X.\n",
    "    :param i: Probabilidade de um símbolo ser transmitido pela fonte X. Pode ser um número ou um mapa de :func:`probabilidades`.  \n",
    "    :return: Informação em bits\n",
    "    \"\"\"\n",
    "\n",
    "    if type(i) != dict:\n",
    "        return round(-1 * np.log2(i), 4)\n",
    "    else:\n",
    "        r = {}\n",
    "        for key, value in i.items():\n",
    "            r[key] = round(-1 * np.log2(value), 4)\n",
    "        return r\n",
    "\n",
    "\n",
    "## ou informação média\n",
    "def entropia(c):\n",
    "    \"\"\"\n",
    "    Essa função calcula a entrópia de uma fonte. A entrópia de uma fonte descreve a quantidade média de informação que uma fonte pode transmitir.\n",
    "    :param c: Mapa de probabilidade de todos os símbolos produzidos por uma fonte binária X. \n",
    "    :return: A média ponderada da auto-informacao de todos os símbolos produzidos por uma fonte binária X.\n",
    "    \"\"\"\n",
    "    try:\n",
    "        c = list(c.values())\n",
    "    except TypeError:\n",
    "        raise Exception(\"c não é um mapa\")\n",
    "\n",
    "    if not c is np.ndarray:\n",
    "        c = np.array(c)\n",
    "\n",
    "    return round(sum(np.array(c) * np.log2(1 / np.array(c))), 4)\n",
    "\n",
    "\n",
    "def probabilidades(c):\n",
    "    \"\"\".value_counts\n",
    "    Função auxiliar para calcular a probabilidade de ocorrência de cada símbolo de uma coleção.\n",
    "    :param c: Coleção de símbolos com probabilidade de ocorrência sem dependências.\n",
    "    :return: Mapa onde as chaves são cada item único da coleção c e os valores são as probabilidades de ocorrência de cada símbolo em relação a todos os outros items.\n",
    "    \"\"\"\n",
    "    try:\n",
    "        iter(c)\n",
    "    except TypeError:\n",
    "        raise Exception(\"c não é uma lista\")\n",
    "\n",
    "    quantidade_simbolos = {}\n",
    "    for i in c:\n",
    "        if quantidade_simbolos.get(i) is None:\n",
    "            quantidade_simbolos[i] = 1\n",
    "        else:\n",
    "            quantidade_simbolos[i] = quantidade_simbolos[i] + 1\n",
    "\n",
    "    probabilidade_simbolos = {}\n",
    "\n",
    "    for i in list(set(c)):\n",
    "        probabilidade_simbolos[i] = quantidade_simbolos[i] / len(c)\n",
    "    return probabilidade_simbolos"
   ],
   "id": "7da642b5c9cff8b3",
   "outputs": [],
   "execution_count": 17
  },
  {
   "metadata": {
    "ExecuteTime": {
     "end_time": "2024-08-07T02:45:51.671247Z",
     "start_time": "2024-08-07T02:45:50.172352Z"
    }
   },
   "cell_type": "code",
   "source": "df = pd.read_csv('NoThemeTweets.csv')",
   "id": "74b57fa8ba352f56",
   "outputs": [],
   "execution_count": 18
  },
  {
   "metadata": {
    "ExecuteTime": {
     "end_time": "2024-08-07T02:45:51.848111Z",
     "start_time": "2024-08-07T02:45:51.672421Z"
    }
   },
   "cell_type": "code",
   "source": [
    "print(\"Analisando cinco tweets:\")\n",
    "print(\"\\n\")\n",
    "df_analise = df[df[\"tweet_text\"].str.len() > 100].sample(5)\n",
    "for i in range(5):\n",
    "    mensagem = df_analise.iloc[i].tweet_text\n",
    "    print(mensagem)\n",
    "    print(\"Informação por palavra:\")\n",
    "    probabilidades_por_palavra = probabilidades(mensagem.split())\n",
    "    informacao_por_palavra = auto_informacao(probabilidades_por_palavra)\n",
    "    print(informacao_por_palavra)\n",
    "    max_i = -1\n",
    "    max_p = None\n",
    "    for key, value in informacao_por_palavra.items():\n",
    "        if value > max_i:\n",
    "            max_i = value\n",
    "            max_p = key\n",
    "    print(f\"Palavra com mais informação: \\\"{max_p}\\\". {max_i} bits/palavra\")\n",
    "    print(\"Entropia do texto:\")\n",
    "    print(entropia(probabilidades_por_palavra))\n",
    "    \n",
    "    print(\"\\n\")"
   ],
   "id": "fc2f89c09d8f56f1",
   "outputs": [
    {
     "name": "stdout",
     "output_type": "stream",
     "text": [
      "Analisando cinco tweets:\n",
      "\n",
      "\n",
      "Mesmo quando você não está fazendo nada, sua mente não para. São mil pensamentos por segundo que esgotam o seu corpo. Tira um tempo para você, faça com calma algo que você goste, desacelere um pouquinho! Seu corpo e sua mente vão gostar. :)\n",
      "Informação por palavra:\n",
      "{'você': 4.4594, ':)': 5.4594, 'para': 5.4594, 'para.': 5.4594, 'desacelere': 5.4594, 'faça': 5.4594, 'corpo': 5.4594, 'o': 5.4594, 'Seu': 5.4594, 'esgotam': 5.4594, 'sua': 4.4594, 'e': 5.4594, 'mil': 5.4594, 'fazendo': 5.4594, 'algo': 5.4594, 'por': 5.4594, 'calma': 5.4594, 'pensamentos': 5.4594, 'seu': 5.4594, 'um': 4.4594, 'corpo.': 5.4594, 'tempo': 5.4594, 'você,': 5.4594, 'mente': 4.4594, 'segundo': 5.4594, 'Tira': 5.4594, 'não': 4.4594, 'pouquinho!': 5.4594, 'com': 5.4594, 'quando': 5.4594, 'nada,': 5.4594, 'está': 5.4594, 'gostar.': 5.4594, 'Mesmo': 5.4594, 'São': 5.4594, 'goste,': 5.4594, 'vão': 5.4594, 'que': 4.4594}\n",
      "Palavra com mais informação: \":)\". 5.4594 bits/palavra\n",
      "Entropia do texto:\n",
      "5.1867\n",
      "\n",
      "\n",
      "@camilasfeeling Sim kkkkkk eu tb esteva doida nele, mas aí vi o preço e broxei. Aquele tom meio mostarda é lindo!!!! Eu ia ficar linda nele :(\n",
      "Informação por palavra:\n",
      "{'Sim': 4.7549, 'meio': 4.7549, 'o': 4.7549, 'ficar': 4.7549, 'aí': 4.7549, 'e': 4.7549, 'eu': 4.7549, 'é': 4.7549, 'mas': 4.7549, 'ia': 4.7549, 'doida': 4.7549, 'mostarda': 4.7549, 'linda': 4.7549, 'nele,': 4.7549, 'nele': 4.7549, 'Aquele': 4.7549, 'vi': 4.7549, 'preço': 4.7549, 'tom': 4.7549, '@camilasfeeling': 4.7549, 'tb': 4.7549, ':(': 4.7549, 'esteva': 4.7549, 'kkkkkk': 4.7549, 'Eu': 4.7549, 'broxei.': 4.7549, 'lindo!!!!': 4.7549}\n",
      "Palavra com mais informação: \"Sim\". 4.7549 bits/palavra\n",
      "Entropia do texto:\n",
      "4.7549\n",
      "\n",
      "\n",
      "e a *** ficou tipo ai forças guerreira, ninguém te entende :( super sarcástica do mesmo jeito que ela fez quando eu comecei a tentar abrir espaço pra desabafar sobre meu ta quando tava logo no comecinho\n",
      "Informação por palavra:\n",
      "{'ficou': 5.2095, 'forças': 5.2095, 'desabafar': 5.2095, 'entende': 5.2095, 'a': 4.2095, 'te': 5.2095, 'comecinho': 5.2095, 'jeito': 5.2095, 'tava': 5.2095, 'ela': 5.2095, 'mesmo': 5.2095, 'ai': 5.2095, 'e': 5.2095, 'tentar': 5.2095, 'comecei': 5.2095, 'eu': 5.2095, 'ninguém': 5.2095, 'espaço': 5.2095, 'ta': 5.2095, 'sarcástica': 5.2095, 'no': 5.2095, 'logo': 5.2095, 'fez': 5.2095, ':(': 5.2095, 'do': 5.2095, 'quando': 4.2095, 'guerreira,': 5.2095, '***': 5.2095, 'meu': 5.2095, 'tipo': 5.2095, 'pra': 5.2095, 'super': 5.2095, 'abrir': 5.2095, 'sobre': 5.2095, 'que': 5.2095}\n",
      "Palavra com mais informação: \"ficou\". 5.2095 bits/palavra\n",
      "Entropia do texto:\n",
      "5.1013\n",
      "\n",
      "\n",
      "@startupdareal @rd_monteiro Engenheiro? Entao cuidado, eh quase certeza da conta ta errada, essa galera passa na materia de calculo colando achando que sabe manipular numeros :P\n",
      "Informação por palavra:\n",
      "{'colando': 4.7004, 'passa': 4.7004, 'eh': 4.7004, 'Engenheiro?': 4.7004, 'materia': 4.7004, 'na': 4.7004, 'ta': 4.7004, 'essa': 4.7004, 'errada,': 4.7004, '@rd_monteiro': 4.7004, 'numeros': 4.7004, 'calculo': 4.7004, 'manipular': 4.7004, 'Entao': 4.7004, 'certeza': 4.7004, '@startupdareal': 4.7004, 'galera': 4.7004, ':P': 4.7004, 'quase': 4.7004, 'da': 4.7004, 'cuidado,': 4.7004, 'achando': 4.7004, 'sabe': 4.7004, 'conta': 4.7004, 'de': 4.7004, 'que': 4.7004}\n",
      "Palavra com mais informação: \"colando\". 4.7004 bits/palavra\n",
      "Entropia do texto:\n",
      "4.7004\n",
      "\n",
      "\n",
      "@JAPA_XMG @XboxMilGrau_ @xcapim360 @xcapimBr @XboxOpressor Midia Gamer: PlayStation inova de novo com primeiro jogo na vertical :P\n",
      "Informação por palavra:\n",
      "{'@XboxMilGrau_': 4.0875, 'inova': 4.0875, 'na': 4.0875, 'jogo': 4.0875, '@JAPA_XMG': 4.0875, 'vertical': 4.0875, '@xcapimBr': 4.0875, 'Midia': 4.0875, 'Gamer:': 4.0875, 'PlayStation': 4.0875, '@xcapim360': 4.0875, 'de': 4.0875, 'novo': 4.0875, 'com': 4.0875, '@XboxOpressor': 4.0875, 'primeiro': 4.0875, ':P': 4.0875}\n",
      "Palavra com mais informação: \"@XboxMilGrau_\". 4.0875 bits/palavra\n",
      "Entropia do texto:\n",
      "4.0875\n",
      "\n",
      "\n"
     ]
    }
   ],
   "execution_count": 19
  },
  {
   "metadata": {},
   "cell_type": "markdown",
   "source": "# existe uma variação nessas medidas quando os twittes são neutros, positivos ou negativos?",
   "id": "5ef4916d81a581bd"
  },
  {
   "metadata": {
    "ExecuteTime": {
     "end_time": "2024-08-07T02:45:52.651069Z",
     "start_time": "2024-08-07T02:45:51.848676Z"
    }
   },
   "cell_type": "code",
   "source": [
    "df = df.sample(20000)\n",
    "df[\"entropia\"] = df[\"tweet_text\"].apply(lambda x: entropia(probabilidades(x)))\n",
    "df[\"entropia\"] = df[\"tweet_text\"].apply(lambda x: entropia(probabilidades(x)))"
   ],
   "id": "ca32e836d805877a",
   "outputs": [],
   "execution_count": 20
  },
  {
   "metadata": {
    "ExecuteTime": {
     "end_time": "2024-08-07T02:45:52.656073Z",
     "start_time": "2024-08-07T02:45:52.651991Z"
    }
   },
   "cell_type": "code",
   "source": "df.groupby(\"sentiment\")[\"entropia\"].mean().sort_values(ascending=False)",
   "id": "14024820da8cfea7",
   "outputs": [
    {
     "data": {
      "text/plain": [
       "sentiment\n",
       "Positivo    4.186673\n",
       "Negativo    4.062341\n",
       "Name: entropia, dtype: float64"
      ]
     },
     "execution_count": 21,
     "metadata": {},
     "output_type": "execute_result"
    }
   ],
   "execution_count": 21
  },
  {
   "metadata": {
    "ExecuteTime": {
     "end_time": "2024-08-07T02:45:52.666413Z",
     "start_time": "2024-08-07T02:45:52.656900Z"
    }
   },
   "cell_type": "code",
   "source": "df.groupby(\"sentiment\")[\"entropia\"].median().sort_values(ascending=False)",
   "id": "f03492b419f9ebc7",
   "outputs": [
    {
     "data": {
      "text/plain": [
       "sentiment\n",
       "Positivo    4.18310\n",
       "Negativo    4.06005\n",
       "Name: entropia, dtype: float64"
      ]
     },
     "execution_count": 22,
     "metadata": {},
     "output_type": "execute_result"
    }
   ],
   "execution_count": 22
  },
  {
   "metadata": {},
   "cell_type": "markdown",
   "source": "Podemos ver que na media e na mediana a entropia de textos positivos é ligeiramente maior.",
   "id": "6303cebd1a13a722"
  },
  {
   "metadata": {},
   "cell_type": "markdown",
   "source": "# o que é possível afirmar com relação a twiites com temas, usando informação como medida?",
   "id": "f748d16188098794"
  },
  {
   "metadata": {},
   "cell_type": "markdown",
   "source": "Que tweets negativos tendem a ter mais entropia, pois tem palavras mais diversas e buscam passar mais informação.",
   "id": "14a030351f898d7"
  },
  {
   "metadata": {},
   "cell_type": "markdown",
   "source": "# se é possível detectar novos usuários usando medidas de informação como parâmetro?",
   "id": "9062e54c3cb9fb87"
  },
  {
   "metadata": {
    "ExecuteTime": {
     "end_time": "2024-08-07T02:53:57.227144Z",
     "start_time": "2024-08-07T02:53:57.198110Z"
    }
   },
   "cell_type": "code",
   "source": "df3 = df[[\"tweet_date\", \"entropia\"]].sort_values(by=\"tweet_date\").reset_index(drop=True)",
   "id": "5ca04495d800f6ab",
   "outputs": [],
   "execution_count": 38
  },
  {
   "metadata": {
    "ExecuteTime": {
     "end_time": "2024-08-07T02:55:02.892643Z",
     "start_time": "2024-08-07T02:55:02.886599Z"
    }
   },
   "cell_type": "code",
   "source": "df3.describe()",
   "id": "244e3fa5c1cbd08d",
   "outputs": [
    {
     "data": {
      "text/plain": [
       "           entropia\n",
       "count  20000.000000\n",
       "mean       4.104005\n",
       "std        0.335038\n",
       "min        0.710600\n",
       "25%        3.901275\n",
       "50%        4.098100\n",
       "75%        4.331600\n",
       "max        5.247700"
      ],
      "text/html": [
       "<div>\n",
       "<style scoped>\n",
       "    .dataframe tbody tr th:only-of-type {\n",
       "        vertical-align: middle;\n",
       "    }\n",
       "\n",
       "    .dataframe tbody tr th {\n",
       "        vertical-align: top;\n",
       "    }\n",
       "\n",
       "    .dataframe thead th {\n",
       "        text-align: right;\n",
       "    }\n",
       "</style>\n",
       "<table border=\"1\" class=\"dataframe\">\n",
       "  <thead>\n",
       "    <tr style=\"text-align: right;\">\n",
       "      <th></th>\n",
       "      <th>entropia</th>\n",
       "    </tr>\n",
       "  </thead>\n",
       "  <tbody>\n",
       "    <tr>\n",
       "      <th>count</th>\n",
       "      <td>20000.000000</td>\n",
       "    </tr>\n",
       "    <tr>\n",
       "      <th>mean</th>\n",
       "      <td>4.104005</td>\n",
       "    </tr>\n",
       "    <tr>\n",
       "      <th>std</th>\n",
       "      <td>0.335038</td>\n",
       "    </tr>\n",
       "    <tr>\n",
       "      <th>min</th>\n",
       "      <td>0.710600</td>\n",
       "    </tr>\n",
       "    <tr>\n",
       "      <th>25%</th>\n",
       "      <td>3.901275</td>\n",
       "    </tr>\n",
       "    <tr>\n",
       "      <th>50%</th>\n",
       "      <td>4.098100</td>\n",
       "    </tr>\n",
       "    <tr>\n",
       "      <th>75%</th>\n",
       "      <td>4.331600</td>\n",
       "    </tr>\n",
       "    <tr>\n",
       "      <th>max</th>\n",
       "      <td>5.247700</td>\n",
       "    </tr>\n",
       "  </tbody>\n",
       "</table>\n",
       "</div>"
      ]
     },
     "execution_count": 43,
     "metadata": {},
     "output_type": "execute_result"
    }
   ],
   "execution_count": 43
  }
 ],
 "metadata": {
  "kernelspec": {
   "display_name": "Python 3",
   "language": "python",
   "name": "python3"
  },
  "language_info": {
   "codemirror_mode": {
    "name": "ipython",
    "version": 2
   },
   "file_extension": ".py",
   "mimetype": "text/x-python",
   "name": "python",
   "nbconvert_exporter": "python",
   "pygments_lexer": "ipython2",
   "version": "2.7.6"
  }
 },
 "nbformat": 4,
 "nbformat_minor": 5
}
