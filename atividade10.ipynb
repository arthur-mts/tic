{
 "cells": [
  {
   "cell_type": "code",
   "id": "initial_id",
   "metadata": {
    "collapsed": true,
    "ExecuteTime": {
     "end_time": "2024-09-28T01:00:25.487706Z",
     "start_time": "2024-09-28T01:00:24.872112Z"
    }
   },
   "source": [
    "import numpy as np\n",
    "import matplotlib.pyplot as plt\n",
    "import pandas as pd\n",
    "from matplotlib import colormaps\n",
    "from PIL import Image\n"
   ],
   "outputs": [],
   "execution_count": 1
  },
  {
   "metadata": {},
   "cell_type": "markdown",
   "source": "Desenvolver uma ferramenta em Python que implemente e compare a eficácia de vários algoritmos de compressão aplicados a imagens. A ferramenta deve permitir compressão e descompressão de imagens em formatos como PNG e JPEG, além de comparar a eficiência dos algoritmos em termos de taxa de compressão e qualidade da imagem.",
   "id": "f5056a1d3272dce3"
  },
  {
   "metadata": {
    "ExecuteTime": {
     "end_time": "2024-09-28T01:00:25.489769Z",
     "start_time": "2024-09-28T01:00:25.488378Z"
    }
   },
   "cell_type": "code",
   "source": [
    "def converter_escala_cinza(imagem):\n",
    "    return imagem.convert('L')"
   ],
   "id": "b5968908fd47a181",
   "outputs": [],
   "execution_count": 2
  },
  {
   "metadata": {},
   "cell_type": "markdown",
   "source": "## Imagem de teste ",
   "id": "1b3b00239694e637"
  },
  {
   "metadata": {
    "ExecuteTime": {
     "end_time": "2024-09-28T01:00:25.499701Z",
     "start_time": "2024-09-28T01:00:25.490176Z"
    }
   },
   "cell_type": "code",
   "source": "image_path = \"black mage.png\"",
   "id": "836844779c03c46d",
   "outputs": [],
   "execution_count": 3
  },
  {
   "metadata": {
    "ExecuteTime": {
     "end_time": "2024-09-28T01:00:25.581067Z",
     "start_time": "2024-09-28T01:00:25.500097Z"
    }
   },
   "cell_type": "code",
   "source": [
    "black_mage = np.array(Image.open(image_path))\n",
    "black_mage_cinza = np.array(converter_escala_cinza(Image.open(image_path)))\n",
    "\n",
    "plt.figure(figsize=(10, 5))\n",
    "plt.subplot(1, 2, 1)\n",
    "plt.title(\"Imagem original\")\n",
    "plt.axis('off')\n",
    "plt.imshow(black_mage)\n",
    "plt.subplot(1, 2, 2)\n",
    "plt.title(\"Imagem com escala de cinza\")\n",
    "plt.imshow(black_mage_cinza, cmap=colormaps.get_cmap(\"gray\"))\n",
    "plt.axis('off')\n",
    "\n",
    "plt.show()"
   ],
   "id": "fc005ef11a62ae12",
   "outputs": [
    {
     "data": {
      "text/plain": [
       "<Figure size 1000x500 with 2 Axes>"
      ],
      "image/png": "[encoded data removed]"
     },
     "metadata": {},
     "output_type": "display_data"
    }
   ],
   "execution_count": 4
  },
  {
   "metadata": {},
   "cell_type": "markdown",
   "source": "## Implementar os Algoritmos de Compressão",
   "id": "1a7ff176c7ec07dc"
  },
  {
   "metadata": {},
   "cell_type": "markdown",
   "source": "### Compressão de Imagem com codificação aritmética",
   "id": "2259b1698cdd26f9"
  },
  {
   "metadata": {
    "ExecuteTime": {
     "end_time": "2024-09-28T01:00:25.585567Z",
     "start_time": "2024-09-28T01:00:25.582012Z"
    }
   },
   "cell_type": "code",
   "source": [
    "import numpy as np\n",
    "from decimal import Decimal, getcontext\n",
    "\n",
    "getcontext().prec = 5000\n",
    "\n",
    "def get_probability_table(frequency_table):\n",
    "    total_frequency = sum(frequency_table.values())\n",
    "    probability_table = {}\n",
    "    for key, value in frequency_table.items():\n",
    "        probability_table[key] = value/total_frequency\n",
    "\n",
    "    return probability_table\n",
    "\n",
    "def process_stage(probability_table, stage_min, stage_max):\n",
    "    stage_probs = {}\n",
    "    stage_domain = stage_max - stage_min\n",
    "    for term_idx in range(len(probability_table.items())):\n",
    "        term = list(probability_table.keys())[term_idx]\n",
    "        term_prob = Decimal(probability_table[term])\n",
    "        cum_prob = term_prob * stage_domain + stage_min\n",
    "        stage_probs[term] = [stage_min, cum_prob]\n",
    "        stage_min = cum_prob\n",
    "    return stage_probs\n",
    "\n",
    "def get_encoded_value(last_stage_probs):\n",
    "    last_stage_probs = list(last_stage_probs.values())\n",
    "    last_stage_values = []\n",
    "    for sublist in last_stage_probs:\n",
    "        for element in sublist:\n",
    "            last_stage_values.append(element)\n",
    "\n",
    "    last_stage_min = min(last_stage_values)\n",
    "    last_stage_max = max(last_stage_values)\n",
    "    encoded_value = (last_stage_min + last_stage_max)/2\n",
    "\n",
    "    return encoded_value\n",
    "\n",
    "\n",
    "def encode(msg, probability_table):\n",
    "    msg = list(msg)\n",
    "\n",
    "    stage_min = Decimal(0.0)\n",
    "    stage_max = Decimal(1.0)\n",
    "    \n",
    "    stage_probs = None\n",
    "    for msg_term_idx in range(len(msg)):\n",
    "        stage_probs = process_stage(probability_table, stage_min, stage_max)\n",
    "\n",
    "        msg_term = msg[msg_term_idx]\n",
    "        stage_min = stage_probs[msg_term][0]\n",
    "        stage_max = stage_probs[msg_term][1]\n",
    "\n",
    "    last_stage_probs = process_stage(probability_table, stage_min, stage_max)\n",
    "    \n",
    "    return get_encoded_value(last_stage_probs)\n",
    "\n",
    "def decode(encoded_msg, msg_length, probability_table):\n",
    "    decoded_msg = []\n",
    "    stage_min = Decimal(0.0)\n",
    "    stage_max = Decimal(1.0)\n",
    "\n",
    "    for idx in range(msg_length):\n",
    "        stage_probs = process_stage(probability_table, stage_min, stage_max)\n",
    "\n",
    "        for msg_term, value in stage_probs.items():\n",
    "            if encoded_msg >= value[0] and encoded_msg <= value[1]:\n",
    "                break\n",
    "\n",
    "        decoded_msg.append(msg_term)\n",
    "\n",
    "        stage_min = stage_probs[msg_term][0]\n",
    "        stage_max = stage_probs[msg_term][1]\n",
    "    return np.array(decoded_msg)"
   ],
   "id": "f7252f02f9d7a407",
   "outputs": [],
   "execution_count": 5
  },
  {
   "metadata": {
    "ExecuteTime": {
     "end_time": "2024-09-28T01:00:25.701925Z",
     "start_time": "2024-09-28T01:00:25.586127Z"
    }
   },
   "cell_type": "code",
   "source": [
    "mensagem = black_mage_cinza.flatten()\n",
    "\n",
    "frequency_table = {}\n",
    "for term in mensagem:\n",
    "    if term in frequency_table:\n",
    "        frequency_table[term] += 1\n",
    "    else:\n",
    "        frequency_table[term] = 1\n",
    "probability_table = get_probability_table(frequency_table)\n",
    "\n",
    "encoded_msg = encode(msg=mensagem, probability_table=probability_table)\n",
    "\n",
    "encoded_msg_aritmetico = encoded_msg\n",
    "probability_table_aritmetico = probability_table"
   ],
   "id": "56dce29d4a6a6ca",
   "outputs": [],
   "execution_count": 6
  },
  {
   "metadata": {
    "ExecuteTime": {
     "end_time": "2024-09-28T01:00:25.807604Z",
     "start_time": "2024-09-28T01:00:25.702380Z"
    }
   },
   "cell_type": "code",
   "source": "decoded_msg = decode(encoded_msg=encoded_msg, msg_length=len(mensagem), probability_table=probability_table)",
   "id": "a3b6afeea2e48025",
   "outputs": [],
   "execution_count": 7
  },
  {
   "metadata": {
    "ExecuteTime": {
     "end_time": "2024-09-28T01:00:25.810093Z",
     "start_time": "2024-09-28T01:00:25.808119Z"
    }
   },
   "cell_type": "code",
   "source": "decoded_msg.size, mensagem.size",
   "id": "27d54513e17c7611",
   "outputs": [
    {
     "data": {
      "text/plain": [
       "(5120, 5120)"
      ]
     },
     "execution_count": 8,
     "metadata": {},
     "output_type": "execute_result"
    }
   ],
   "execution_count": 8
  },
  {
   "metadata": {
    "ExecuteTime": {
     "end_time": "2024-09-28T01:00:25.863902Z",
     "start_time": "2024-09-28T01:00:25.810475Z"
    }
   },
   "cell_type": "code",
   "source": [
    "decoded_msg = decoded_msg.reshape(black_mage_cinza.shape)\n",
    "\n",
    "plt.imshow(decoded_msg, cmap=colormaps.get_cmap(\"gray\"))\n",
    "plt.show()"
   ],
   "id": "b1f9947b0dc1afe1",
   "outputs": [
    {
     "data": {
      "text/plain": [
       "<Figure size 640x480 with 1 Axes>"
      ],
      "image/png": "[encoded data removed]"
     },
     "metadata": {},
     "output_type": "display_data"
    }
   ],
   "execution_count": 9
  },
  {
   "metadata": {},
   "cell_type": "markdown",
   "source": "### Compressão de Imagem com Huffman ",
   "id": "864c14621d8bc1f"
  },
  {
   "metadata": {
    "ExecuteTime": {
     "end_time": "2024-09-28T01:00:25.866570Z",
     "start_time": "2024-09-28T01:00:25.864380Z"
    }
   },
   "cell_type": "code",
   "source": [
    "from collections import Counter, namedtuple\n",
    "from heapq import heapify, heappop, heappush\n",
    "\n",
    "# message = \"AUOOOU EAEEE ALOO AAAA :)\"\n",
    "mensagem = black_mage_cinza.flatten()\n",
    "\n",
    "frequency_table = Counter(mensagem)\n",
    "\n",
    "Node = namedtuple('Node', ['count', 'letter', 'left', 'right'])\n",
    "\n",
    "nodes = [Node(count, letter, None, None) \n",
    "         for (letter, count) in frequency_table.items()]\n",
    "\n",
    "heap = nodes.copy()\n",
    "heapify(heap)"
   ],
   "id": "275115708c9986f5",
   "outputs": [],
   "execution_count": 10
  },
  {
   "metadata": {
    "ExecuteTime": {
     "end_time": "2024-09-28T01:00:25.877056Z",
     "start_time": "2024-09-28T01:00:25.867050Z"
    }
   },
   "cell_type": "code",
   "source": [
    "def make_tree(heap):\n",
    "    root = None\n",
    "    while len(heap) > 0:\n",
    "        if root is None:\n",
    "            right = heappop(heap)\n",
    "            left = heappop(heap)\n",
    "            root = Node(right.count + left.count, '\\0', left, right)\n",
    "        else:\n",
    "            left = heappop(heap)\n",
    "            old_root = root\n",
    "            root = Node(old_root.count + left.count, '\\0', left, old_root)\n",
    "    return root\n",
    "\n",
    "root = make_tree(heap)\n",
    "tree = root"
   ],
   "id": "5c087116025100b8",
   "outputs": [],
   "execution_count": 11
  },
  {
   "metadata": {
    "ExecuteTime": {
     "end_time": "2024-09-28T01:00:26.079632Z",
     "start_time": "2024-09-28T01:00:25.877528Z"
    }
   },
   "cell_type": "code",
   "source": [
    "import networkx as nx\n",
    "\n",
    "def add_edges(parent, G):\n",
    "    if parent is None:\n",
    "        return\n",
    "    \n",
    "    for child in (parent.left, parent.right):\n",
    "        if child:\n",
    "            G.add_edge(parent, child)\n",
    "            add_edges(child, G)\n",
    "            \n",
    "G = nx.DiGraph()\n",
    "add_edges(tree, G)\n",
    "\n",
    "def get_labels(parent, labels):\n",
    "    if parent is None:\n",
    "        return\n",
    "    \n",
    "    if parent.letter == '\\0':\n",
    "        labels[parent] = parent.count\n",
    "    else:\n",
    "        labels[parent] = parent.letter\n",
    "        \n",
    "    get_labels(parent.left, labels)\n",
    "    get_labels(parent.right, labels)\n",
    "    \n",
    "\n",
    "def get_edge_labels(parent, edge_labels):\n",
    "    if parent is None:\n",
    "        return\n",
    "    \n",
    "    if parent.left:\n",
    "        edge_labels[parent, parent.left] = '0'\n",
    "        get_edge_labels(parent.left, edge_labels)\n",
    "        \n",
    "    if parent.right:\n",
    "        edge_labels[parent, parent.right] = '1'\n",
    "        get_edge_labels(parent.right, edge_labels)\n",
    "\n",
    "labels = {}\n",
    "get_labels(tree, labels)"
   ],
   "id": "a4a657319fdd893e",
   "outputs": [],
   "execution_count": 12
  },
  {
   "metadata": {
    "ExecuteTime": {
     "end_time": "2024-09-28T01:00:26.215327Z",
     "start_time": "2024-09-28T01:00:26.080176Z"
    }
   },
   "cell_type": "code",
   "source": [
    "from EoN import hierarchy_pos\n",
    "\n",
    "def draw_tree(tree):\n",
    "    G = nx.DiGraph()\n",
    "    add_edges(tree, G)\n",
    "    pos = hierarchy_pos(G)\n",
    "    labels = {}\n",
    "    get_labels(tree, labels)\n",
    "    edge_labels = {}\n",
    "    get_edge_labels(tree, edge_labels)\n",
    "    nx.draw(G, pos, labels=labels, alpha=0.4)\n",
    "    nx.draw_networkx_edge_labels(G, pos, edge_labels=edge_labels, font_color='C1')\n",
    "\n",
    "#draw_tree(tree)"
   ],
   "id": "72d33dedb9c3e212",
   "outputs": [],
   "execution_count": 13
  },
  {
   "metadata": {
    "ExecuteTime": {
     "end_time": "2024-09-28T01:00:26.218820Z",
     "start_time": "2024-09-28T01:00:26.216729Z"
    }
   },
   "cell_type": "code",
   "source": [
    "def is_leaf(node):\n",
    "    return node.left is None and node.right is None\n",
    "\n",
    "def make_table(node, path, table):\n",
    "    if node is None:\n",
    "        return\n",
    "    \n",
    "    if is_leaf(node):\n",
    "        table[node.letter] = path\n",
    "        return\n",
    "    \n",
    "    make_table(node.left, path+'0', table)\n",
    "    make_table(node.right, path+'1', table)"
   ],
   "id": "daffb12222b290f4",
   "outputs": [],
   "execution_count": 14
  },
  {
   "metadata": {
    "ExecuteTime": {
     "end_time": "2024-09-28T01:00:26.231297Z",
     "start_time": "2024-09-28T01:00:26.219280Z"
    }
   },
   "cell_type": "code",
   "source": [
    "def encode(s, table):\n",
    "    t = [table[letter] for letter in s]\n",
    "    return ''.join(t)\n",
    "\n",
    "def decode(s, table):\n",
    "    result = []\n",
    "    while s:\n",
    "        for k in table:\n",
    "            if s.startswith(table[k]):\n",
    "                result.append(k)\n",
    "                s = s[len(table[k]):]\n",
    "    return np.array(result)"
   ],
   "id": "53eef7116326ce23",
   "outputs": [],
   "execution_count": 15
  },
  {
   "metadata": {
    "ExecuteTime": {
     "end_time": "2024-09-28T01:00:26.241674Z",
     "start_time": "2024-09-28T01:00:26.231772Z"
    }
   },
   "cell_type": "code",
   "source": [
    "table = {}\n",
    "make_table(tree, '', table)\n",
    "\n",
    "code = encode(mensagem, table)"
   ],
   "id": "8079f4412bb212c5",
   "outputs": [],
   "execution_count": 16
  },
  {
   "metadata": {
    "ExecuteTime": {
     "end_time": "2024-09-28T01:00:26.271515Z",
     "start_time": "2024-09-28T01:00:26.242276Z"
    }
   },
   "cell_type": "code",
   "source": [
    "decoded_msg = decode(code, table)\n",
    "decoded_msg = decoded_msg.reshape(black_mage_cinza.shape)\n",
    "\n",
    "plt.axis('off')\n",
    "plt.imshow(decoded_msg, cmap=colormaps.get_cmap(\"gray\"))\n",
    "plt.show()"
   ],
   "id": "ad984c891283c2cc",
   "outputs": [
    {
     "data": {
      "text/plain": [
       "<Figure size 640x480 with 1 Axes>"
      ],
      "image/png": "[encoded data removed]"
     },
     "metadata": {},
     "output_type": "display_data"
    }
   ],
   "execution_count": 17
  },
  {
   "metadata": {},
   "cell_type": "markdown",
   "source": "### Compressão de Imagem com JPEG",
   "id": "fbd5c894da58326e"
  },
  {
   "metadata": {
    "ExecuteTime": {
     "end_time": "2024-09-28T01:00:26.274065Z",
     "start_time": "2024-09-28T01:00:26.271976Z"
    }
   },
   "cell_type": "code",
   "source": [
    "from PIL import Image\n",
    "image = converter_escala_cinza(Image.open(image_path))\n",
    "image.save('./black_mage_jpeg.jpg', 'JPEG', quality=50)"
   ],
   "id": "6a2ca332964e4363",
   "outputs": [],
   "execution_count": 18
  },
  {
   "metadata": {},
   "cell_type": "markdown",
   "source": "## Comparação dos Algoritmos",
   "id": "222d370c148ee680"
  },
  {
   "metadata": {},
   "cell_type": "markdown",
   "source": "### Tamanho da imagem cinza",
   "id": "3d5e1deb323cc6f0"
  },
  {
   "metadata": {
    "ExecuteTime": {
     "end_time": "2024-09-28T01:00:26.293077Z",
     "start_time": "2024-09-28T01:00:26.274456Z"
    }
   },
   "cell_type": "code",
   "source": [
    "import os\n",
    "gray_image_path = 'black_mage_gray.png'\n",
    "image = converter_escala_cinza(Image.open(image_path))\n",
    "image.save(gray_image_path)\n",
    "\n",
    "# Get the size of the grayscale image file\n",
    "file_size = os.path.getsize(gray_image_path)\n",
    "\n",
    "print(f\"{file_size} bytes\")"
   ],
   "id": "e451fafd655afd5d",
   "outputs": [
    {
     "name": "stdout",
     "output_type": "stream",
     "text": [
      "267 bytes\n"
     ]
    }
   ],
   "execution_count": 19
  },
  {
   "metadata": {},
   "cell_type": "markdown",
   "source": "### Compressão de Imagem com codificação aritmética",
   "id": "b954794ab0db1cd5"
  },
  {
   "metadata": {},
   "cell_type": "markdown",
   "source": "Utilizando o código disponibilizado no github:",
   "id": "b5330254687e590a"
  },
  {
   "metadata": {
    "ExecuteTime": {
     "end_time": "2024-09-28T01:00:30.250821Z",
     "start_time": "2024-09-28T01:00:26.306663Z"
    }
   },
   "cell_type": "code",
   "source": [
    "from ae import ArithmeticEncoding\n",
    "getcontext().prec = 444\n",
    "\n",
    "im = black_mage_cinza\n",
    "msg = black_mage_cinza.flatten()\n",
    "hist, bin_edges = np.histogram(a=im,\n",
    "                                  bins=range(0, 257))\n",
    "frequency_table = {key: value for key, value in zip(bin_edges[0:256], hist)}\n",
    "\n",
    "\n",
    "AE = ArithmeticEncoding(frequency_table=frequency_table)\n",
    "\n",
    "# Encode the message\n",
    "encoded_msg, encoder, interval_min_value, interval_max_value = AE.encode(msg=msg, \n",
    "                                                                         probability_table=AE.probability_table)\n",
    "\n",
    "# Decode the message\n",
    "decoded_msg, decoder = AE.decode(encoded_msg=encoded_msg, \n",
    "                                 msg_length=len(msg),\n",
    "                                 probability_table=AE.probability_table)\n",
    "\n",
    "# Reshape the image to its original shape.\n",
    "decoded_msg = np.reshape(decoded_msg, im.shape)\n",
    "\n",
    "# Show the original and decoded images.\n",
    "fig, ax = plt.subplots(1, 2)\n",
    "ax[0].imshow(im, cmap=\"gray\")\n",
    "ax[0].set_title(\"Original Image\")\n",
    "ax[0].set_xticks([])\n",
    "ax[0].set_yticks([])\n",
    "ax[1].imshow(decoded_msg, cmap=\"gray\")\n",
    "ax[1].set_title(\"Reconstructed Image\")\n",
    "ax[1].set_xticks([])\n",
    "ax[1].set_yticks([])"
   ],
   "id": "d1e4d79de0996984",
   "outputs": [
    {
     "data": {
      "text/plain": [
       "[]"
      ]
     },
     "execution_count": 21,
     "metadata": {},
     "output_type": "execute_result"
    },
    {
     "data": {
      "text/plain": [
       "<Figure size 640x480 with 2 Axes>"
      ],
      "image/png": "[encoded data removed]"
     },
     "metadata": {},
     "output_type": "display_data"
    }
   ],
   "execution_count": 21
  },
  {
   "metadata": {
    "ExecuteTime": {
     "end_time": "2024-09-28T01:01:29.041467Z",
     "start_time": "2024-09-28T01:01:29.038773Z"
    }
   },
   "cell_type": "code",
   "source": [
    "# Calculate the size of encoded_msg_aritmetico\n",
    "encoded_msg_size = len(str(encoded_msg).encode('utf-8'))\n",
    "\n",
    "# Calculate the size of probability_table_aritmetico\n",
    "probability_table_size = 0\n",
    "for key, value in AE.probability_table.items():\n",
    "    probability_table_size += len(str(key).encode('utf-8'))\n",
    "    probability_table_size += len(str(value).encode('utf-8'))\n",
    "\n",
    "# Total size\n",
    "total_size = encoded_msg_size + probability_table_size\n",
    "\n",
    "print(f\"Tamanho de encoded_msg_aritmetico: {encoded_msg_size} bytes\")\n",
    "print(f\"Tamanho de probability_table_aritmetico: {probability_table_size} bytes\")\n",
    "print(f\"Tamanho total: {total_size} bytes\")"
   ],
   "id": "a4232dfad62097d",
   "outputs": [
    {
     "name": "stdout",
     "output_type": "stream",
     "text": [
      "Tamanho de encoded_msg_aritmetico: 449 bytes\n",
      "Tamanho de probability_table_aritmetico: 1460 bytes\n",
      "Tamanho total: 1909 bytes\n"
     ]
    }
   ],
   "execution_count": 23
  },
  {
   "metadata": {},
   "cell_type": "markdown",
   "source": "### Compressão de Imagem com Huffman",
   "id": "3d11ff118a77921"
  },
  {
   "metadata": {
    "ExecuteTime": {
     "end_time": "2024-09-28T01:01:50.769721Z",
     "start_time": "2024-09-28T01:01:50.767034Z"
    }
   },
   "cell_type": "code",
   "source": [
    "code_size = len(str(code).encode('utf-8'))\n",
    "print(f\"Tamanho de code: {code_size} bytes\")\n",
    "\n",
    "table_size = 0\n",
    "for key, value in table.items():\n",
    "    table_size += len(str(key).encode('utf-8'))\n",
    "    table_size += len(str(value).encode('utf-8'))\n",
    "\n",
    "print(f\"Tamanho de table: {table_size} bytes\")"
   ],
   "id": "b149bae0711cc9f2",
   "outputs": [
    {
     "name": "stdout",
     "output_type": "stream",
     "text": [
      "Tamanho de code: 5393 bytes\n",
      "Tamanho de table: 19 bytes\n"
     ]
    }
   ],
   "execution_count": 24
  }
 ],
 "metadata": {
  "kernelspec": {
   "display_name": "Python 3",
   "language": "python",
   "name": "python3"
  },
  "language_info": {
   "codemirror_mode": {
    "name": "ipython",
    "version": 2
   },
   "file_extension": ".py",
   "mimetype": "text/x-python",
   "name": "python",
   "nbconvert_exporter": "python",
   "pygments_lexer": "ipython2",
   "version": "2.7.6"
  }
 },
 "nbformat": 4,
 "nbformat_minor": 5
}
