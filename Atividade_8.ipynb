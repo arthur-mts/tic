{
 "nbformat": 4,
 "nbformat_minor": 0,
 "metadata": {
  "colab": {
   "provenance": []
  },
  "kernelspec": {
   "name": "python3",
   "display_name": "Python 3 (ipykernel)",
   "language": "python"
  },
  "language_info": {
   "name": "python"
  }
 },
 "cells": [
  {
   "cell_type": "markdown",
   "metadata": {
    "id": "PTzHSMPX116f"
   },
   "source": [
    "# 1\n",
    "\n",
    "Implemente o algoritmo acima em uma função que retorne as entropias conjunta e condicional de duas fontes de entrada."
   ]
  },
  {
   "cell_type": "code",
   "source": [
    "import numpy as np\n",
    "import pandas as pd\n",
    "from collections import Counter\n",
    "\n",
    "def calcular_entropias(X, Y):\n",
    "    df = pd.DataFrame({'X': X, 'Y': Y})\n",
    "    tabela_contingencia = pd.crosstab(df['X'], df['Y'], margins=True, normalize=True)\n",
    "\n",
    "    prob_conjunta = tabela_contingencia.drop('All', axis=1).drop('All', axis=0)\n",
    "\n",
    "    H_xy = -np.sum((prob_conjunta * np.log2(prob_conjunta + 1e-9)).values)\n",
    "\n",
    "    p_x = tabela_contingencia.loc[:, 'All'].iloc[:-1]\n",
    "    p_y = tabela_contingencia.loc['All', :].iloc[:-1]\n",
    "\n",
    "    H_x = -np.sum(p_x * np.log2(p_x + 1e-9))\n",
    "    H_y = -np.sum(p_y * np.log2(p_y + 1e-9))\n",
    "\n",
    "    H_y_x = H_xy - H_x\n",
    "    H_x_y = H_xy - H_y\n",
    "\n",
    "    return H_xy, H_y_x, H_x_y\n",
    "\n",
    "X = ['A', 'A', 'B', 'B', 'B', 'C', 'C', 'C', 'C', 'C']\n",
    "Y = ['D', 'D', 'A', 'B', 'B', 'C', 'A', 'D', 'B', 'A']\n",
    "\n",
    "H_xy, H_y_x, H_x_y = calcular_entropias(X, Y)\n",
    "print(f\"Entropia Conjunta: {H_xy}\")\n",
    "print(f\"Entropia Condicional H(Y|X): {H_y_x}\")\n",
    "print(f\"Entropia Condicional H(X|Y): {H_x_y}\")\n"
   ],
   "metadata": {
    "id": "26hpS773MljD",
    "colab": {
     "base_uri": "https://localhost:8080/"
    },
    "outputId": "e5f91f41-1747-4d59-db7e-08b60d6f41f8",
    "ExecuteTime": {
     "end_time": "2024-08-29T02:05:57.100005Z",
     "start_time": "2024-08-29T02:05:56.882144Z"
    }
   },
   "outputs": [
    {
     "name": "stdout",
     "output_type": "stream",
     "text": [
      "Entropia Conjunta: 2.7219280847884972\n",
      "Entropia Condicional H(Y|X): 1.236452791889248\n",
      "Entropia Condicional H(X|Y): 0.8264662463209556\n"
     ]
    }
   ],
   "execution_count": 1
  },
  {
   "cell_type": "markdown",
   "metadata": {
    "id": "lj5CPDId116f"
   },
   "source": [
    "# 2\n",
    "\n",
    "Use sua implementação acima para calcular as entropias conjunta e condicional de bigramas (pares de palavras ou caracteres) de um texto."
   ]
  },
  {
   "cell_type": "code",
   "source": [
    "def formar_bigramas(texto):\n",
    "    palavras = texto.split()\n",
    "    bigramas = [(palavras[i], palavras[i + 1]) for i in range(len(palavras) - 1)]\n",
    "    return bigramas\n",
    "\n",
    "texto = \"A tecnologia é só uma ferramenta. No que se refere a motivar as crianças e conseguir que trabalhem juntas, um professor é um recurso mais importante\"\n",
    "bigramas = formar_bigramas(texto)\n",
    "\n",
    "X_bigramas, Y_bigramas = zip(*bigramas)\n",
    "\n",
    "H_xy_bigramas, H_y_x_bigramas, H_x_y_bigramas = calcular_entropias(X_bigramas, Y_bigramas)\n",
    "print(f\"Entropia Conjunta (Bigramas): {H_xy_bigramas}\")\n",
    "print(f\"Entropia Condicional H(Y|X) (Bigramas): {H_y_x_bigramas}\")\n",
    "print(f\"Entropia Condicional H(X|Y) (Bigramas): {H_x_y_bigramas}\")\n"
   ],
   "metadata": {
    "colab": {
     "base_uri": "https://localhost:8080/"
    },
    "id": "TDbeajACNdI4",
    "outputId": "1123bacf-ff62-492d-8dd8-6e95964fb416",
    "ExecuteTime": {
     "end_time": "2024-08-29T02:05:57.134947Z",
     "start_time": "2024-08-29T02:05:57.100886Z"
    }
   },
   "outputs": [
    {
     "name": "stdout",
     "output_type": "stream",
     "text": [
      "Entropia Conjunta (Bigramas): 4.6438561537073495\n",
      "Entropia Condicional H(Y|X) (Bigramas): 0.23999999567191477\n",
      "Entropia Condicional H(X|Y) (Bigramas): 0.23999999567191477\n"
     ]
    }
   ],
   "execution_count": 2
  },
  {
   "cell_type": "markdown",
   "metadata": {
    "id": "XyxmSGLz116f"
   },
   "source": [
    "**Questão 3**\n",
    "\n",
    "Calcule as entropias conjunta e condicional das variáveis `Survived`, `Pclass` e `Sex` do *dataset* [titanic.csv](https://raw.githubusercontent.com/datasciencedojo/datasets/master/titanic.csv). Discuta os resultados obtidos."
   ]
  },
  {
   "cell_type": "code",
   "source": [
    "url = 'https://raw.githubusercontent.com/datasciencedojo/datasets/master/titanic.csv'\n",
    "df_titanic = pd.read_csv(url)\n",
    "\n",
    "H_xy_survived_pclass, H_y_x_survived_pclass, H_x_y_survived_pclass = calcular_entropias(df_titanic['Survived'], df_titanic['Pclass'])\n",
    "H_xy_survived_sex, H_y_x_survived_sex, H_x_y_survived_sex = calcular_entropias(df_titanic['Survived'], df_titanic['Sex'])\n",
    "\n",
    "print(f\"Entropia Conjunta Survived & Pclass: {H_xy_survived_pclass}\")\n",
    "print(f\"Entropia Condicional H(Pclass|Survived): {H_y_x_survived_pclass}\")\n",
    "print(f\"Entropia Condicional H(Survived|Pclass): {H_x_y_survived_pclass}\")\n",
    "\n",
    "print(f\"Entropia Conjunta Survived & Sex: {H_xy_survived_sex}\")\n",
    "print(f\"Entropia Condicional H(Sex|Survived): {H_y_x_survived_sex}\")\n",
    "print(f\"Entropia Condicional H(Survived|Sex): {H_x_y_survived_sex}\")\n"
   ],
   "metadata": {
    "colab": {
     "base_uri": "https://localhost:8080/"
    },
    "id": "USC5RooYOV-K",
    "outputId": "21abf7f5-4360-4a0f-cd1f-db2db9a8a729",
    "ExecuteTime": {
     "end_time": "2024-08-29T02:05:57.741878Z",
     "start_time": "2024-08-29T02:05:57.135994Z"
    }
   },
   "outputs": [
    {
     "name": "stdout",
     "output_type": "stream",
     "text": [
      "Entropia Conjunta Survived & Pclass: 2.3161983183675936\n",
      "Entropia Condicional H(Pclass|Survived): 1.3554904193773367\n",
      "Entropia Condicional H(Survived|Pclass): 0.87687685225155\n",
      "Entropia Conjunta Survived & Sex: 1.6792524326941045\n",
      "Entropia Condicional H(Sex|Survived): 0.7185445337038476\n",
      "Entropia Condicional H(Survived|Sex): 0.7430477923296426\n"
     ]
    }
   ],
   "execution_count": 3
  },
  {
   "cell_type": "markdown",
   "source": "A análise da entropia no conjunto de dados do Titanic revela que a relação entre sobrevivência e classe, embora relevante, apresenta uma incerteza moderada (entropia conjunta de 2.316). Conhecer a classe do passageiro auxilia na previsão de sobrevivência (entropia condicional de 0.877), evidenciando sua importância. Em contraste, a ligação entre sobrevivência e sexo é mais forte (entropia conjunta de 1.679). Saber o sexo do passageiro reduz consideravelmente a incerteza sobre sua sobrevivência (entropia condicional de 0.743), confirmando a priorização das mulheres no resgate. Concluindo, o sexo teve um impacto mais determinante na sobrevivência em comparação à classe, resultando em previsões mais precisas quando essa variável é considerada.",
   "metadata": {
    "id": "Re_3EgNsP6gf"
   }
  }
 ]
}
